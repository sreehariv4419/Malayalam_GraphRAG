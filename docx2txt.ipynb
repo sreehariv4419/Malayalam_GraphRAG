{
 "cells": [
  {
   "cell_type": "code",
   "execution_count": 1,
   "id": "aa880be0",
   "metadata": {},
   "outputs": [
    {
     "name": "stdout",
     "output_type": "stream",
     "text": [
      "Requirement already satisfied: docx2txt in c:\\users\\user\\appdata\\local\\packages\\pythonsoftwarefoundation.python.3.11_qbz5n2kfra8p0\\localcache\\local-packages\\python311\\site-packages (0.9)\n"
     ]
    },
    {
     "name": "stderr",
     "output_type": "stream",
     "text": [
      "\n",
      "[notice] A new release of pip is available: 24.0 -> 25.1\n",
      "[notice] To update, run: C:\\Users\\user\\AppData\\Local\\Microsoft\\WindowsApps\\PythonSoftwareFoundation.Python.3.11_qbz5n2kfra8p0\\python.exe -m pip install --upgrade pip\n"
     ]
    }
   ],
   "source": [
    "!pip install docx2txt"
   ]
  },
  {
   "cell_type": "code",
   "execution_count": null,
   "id": "b7272922",
   "metadata": {},
   "outputs": [],
   "source": [
    "import docx2txt\n",
    "import os\n",
    "\n",
    "def convert_docx_to_txt(input_file, output_file=None):\n",
    "    \"\"\"\n",
    "    Convert a .docx file to .txt format\n",
    "    \n",
    "    Args:\n",
    "        input_file (str): Path to the input .docx file\n",
    "        output_file (str, optional): Path to the output .txt file. If None, \n",
    "                                    the output file will have the same name as the input file\n",
    "                                    but with .txt extension\n",
    "    \n",
    "    Returns:\n",
    "        str: Path to the created text file\n",
    "    \"\"\"\n",
    "    # Check if input file exists\n",
    "    if not os.path.exists(input_file):\n",
    "        raise FileNotFoundError(f\"Input file '{input_file}' not found.\")\n",
    "    \n",
    "    # Check if input file is a .docx file\n",
    "    if not input_file.lower().endswith('.docx'):\n",
    "        raise ValueError(f\"Input file '{input_file}' is not a .docx file.\")\n",
    "    \n",
    "    # If output file is not specified, create one based on input file name\n",
    "    if output_file is None:\n",
    "        output_file = os.path.splitext(input_file)[0] + '.txt'\n",
    "    \n",
    "    try:\n",
    "        # Extract text from the .docx file\n",
    "        text = docx2txt.process(input_file)\n",
    "        \n",
    "        # Write extracted text to the output file\n",
    "        with open(output_file, 'w', encoding='utf-8') as f:\n",
    "            f.write(text)\n",
    "        \n",
    "        print(f\"Successfully converted '{input_file}' to '{output_file}'\")\n",
    "        return output_file\n",
    "    \n",
    "    except Exception as e:\n",
    "        print(f\"Error converting file: {e}\")\n",
    "        raise\n",
    "\n",
    "if __name__ == \"__main__\":\n",
    "    # File path of the input .docx file\n",
    "    input_file = \"doc_name.docx\"\n",
    "    \n",
    "    # Convert the file\n",
    "    convert_docx_to_txt(input_file)"
   ]
  },
  {
   "cell_type": "code",
   "execution_count": null,
   "id": "54423288",
   "metadata": {},
   "outputs": [],
   "source": []
  }
 ],
 "metadata": {
  "kernelspec": {
   "display_name": "Python 3",
   "language": "python",
   "name": "python3"
  },
  "language_info": {
   "codemirror_mode": {
    "name": "ipython",
    "version": 3
   },
   "file_extension": ".py",
   "mimetype": "text/x-python",
   "name": "python",
   "nbconvert_exporter": "python",
   "pygments_lexer": "ipython3",
   "version": "3.11.9"
  }
 },
 "nbformat": 4,
 "nbformat_minor": 5
}
